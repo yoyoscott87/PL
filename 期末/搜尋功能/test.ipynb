{
 "cells": [
  {
   "cell_type": "code",
   "execution_count": 6,
   "metadata": {},
   "outputs": [],
   "source": [
    "import csv\n",
    "import pandas as pd\n",
    "# 打開CSV文件\n",
    "data = pd.read_csv('花語.csv')\n",
    "with open('花語.csv', 'r', encoding='utf-8') as file:\n",
    "    # 使用 DictReader，並指定 delimiter\n",
    "    csv_reader = csv.DictReader(file, delimiter=',')"
   ]
  },
  {
   "cell_type": "code",
   "execution_count": 7,
   "metadata": {},
   "outputs": [
    {
     "name": "stdout",
     "output_type": "stream",
     "text": [
      "['花名', '花語', '關於花', '品種', '產地', '上市日期', '開花季節', '花期', '生日花', '花語索引']\n"
     ]
    }
   ],
   "source": [
    "import csv\n",
    "\n",
    "# 打開CSV文件\n",
    "with open('花語.csv', 'r', encoding='utf-8-sig') as file:\n",
    "    # 使用 DictReader，並指定 delimiter\n",
    "    csv_reader = csv.DictReader(file, delimiter=',')\n",
    "    \n",
    "    # 獲取標題行的欄位\n",
    "    headers = csv_reader.fieldnames\n",
    "    \n",
    "    # 列印標題行\n",
    "    print(headers)\n"
   ]
  },
  {
   "cell_type": "code",
   "execution_count": 8,
   "metadata": {},
   "outputs": [
    {
     "name": "stdout",
     "output_type": "stream",
     "text": [
      "花名: 風鈴草, 花語:感謝 說出想法,花語索引: 感情，行為\n",
      "花名: 桔梗, 花語:不變的愛,花語索引: 愛情，家庭\n",
      "花名: 紫色桔梗, 花語:氣質,花語索引: 魅力，個性\n",
      "花名: 洋桔梗, 花語:清新,花語索引: 美，稱讚\n",
      "花名: 白色洋桔梗, 花語:說好話,花語索引: 治癒，幸福，喜悅，新生活，友情\n",
      "花名: 紫色洋桔梗, 花語:希望,花語索引: 感情，行為\n",
      "花名: 粉紅洋桔梗, 花語:優美,花語索引: 美，稱讚\n"
     ]
    }
   ],
   "source": [
    "import csv\n",
    "\n",
    "# 打開CSV文件，使用 utf-8-sig 作為文件編碼\n",
    "with open('花語.csv', 'r', encoding='utf-8-sig') as file:\n",
    "    # 使用 DictReader，並指定 delimiter\n",
    "    csv_reader = csv.DictReader(file, delimiter=',')\n",
    "    \n",
    "\n",
    "    # 獲取用户输入的搜尋文本\n",
    "    search_text = input(\"請輸入搜尋文本: \")\n",
    "\n",
    "    # 遍歷 CSV 文件的每一行\n",
    "    for row in csv_reader:\n",
    "        # 去除每一行的欄位值中的 BOM\n",
    "\n",
    "        # 檢查每個欄位值是否包含搜尋文本\n",
    "        if any(search_text.lower() in value.lower() for value in row.values()):\n",
    "            print(f\"花名: {row['花名']}, 花語:{row['花語']},花語索引: {row['花語索引']}\")\n",
    "            #print(row)"
   ]
  }
 ],
 "metadata": {
  "kernelspec": {
   "display_name": "Python 3",
   "language": "python",
   "name": "python3"
  },
  "language_info": {
   "codemirror_mode": {
    "name": "ipython",
    "version": 3
   },
   "file_extension": ".py",
   "mimetype": "text/x-python",
   "name": "python",
   "nbconvert_exporter": "python",
   "pygments_lexer": "ipython3",
   "version": "3.11.5"
  }
 },
 "nbformat": 4,
 "nbformat_minor": 2
}
